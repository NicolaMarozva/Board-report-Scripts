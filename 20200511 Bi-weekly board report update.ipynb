{
 "cells": [
  {
   "cell_type": "markdown",
   "metadata": {},
   "source": [
    "# Objective"
   ]
  },
  {
   "cell_type": "markdown",
   "metadata": {},
   "source": [
    "Create a script that can be used for updating the weekly board report"
   ]
  },
  {
   "cell_type": "markdown",
   "metadata": {},
   "source": [
    "## Input"
   ]
  },
  {
   "cell_type": "markdown",
   "metadata": {},
   "source": [
    "Merged Hepstar and Travix data - HS_clean"
   ]
  },
  {
   "cell_type": "markdown",
   "metadata": {},
   "source": [
    "# Change log"
   ]
  },
  {
   "cell_type": "markdown",
   "metadata": {},
   "source": [
    "- 2020/05/11: NM - Created separate dataset with most used segments"
   ]
  },
  {
   "cell_type": "markdown",
   "metadata": {},
   "source": [
    "# Preparation"
   ]
  },
  {
   "cell_type": "markdown",
   "metadata": {},
   "source": [
    "## Import required Pythmon packages"
   ]
  },
  {
   "cell_type": "code",
   "execution_count": 5,
   "metadata": {},
   "outputs": [],
   "source": [
    "import numpy as np\n",
    "import pandas as pd"
   ]
  },
  {
   "cell_type": "code",
   "execution_count": 6,
   "metadata": {},
   "outputs": [],
   "source": [
    "from datetime import date\n",
    "from datetime import datetime, timedelta\n",
    "import time\n",
    "import pytz\n",
    "import glob"
   ]
  },
  {
   "cell_type": "code",
   "execution_count": 7,
   "metadata": {},
   "outputs": [],
   "source": [
    "#%load_ext autotime\n",
    "#%load_ext pycodestyle_magic\n",
    "#%flake8_on"
   ]
  },
  {
   "cell_type": "markdown",
   "metadata": {},
   "source": [
    "## Import data"
   ]
  },
  {
   "cell_type": "code",
   "execution_count": 12,
   "metadata": {},
   "outputs": [],
   "source": [
    "# Network locations for data import & export\n",
    "input_TravixDatadump_BI = r'\\\\192.168.140.37\\\\Business-Share\\\\bi-report\\\\Data analysis resources\\\\Travix\\\\DatadumpTravix\\\\'\n",
    "Hepstar_path =r'\\\\192.168.140.37\\\\Business-Share\\\\bi-report\\\\'\n",
    "input_BI_drive = r'\\\\192.168.140.37\\Business-Share\\BI resources\\Dashboards\\Travix\\# Data\\\\'\n",
    "export_BI_drive = r'\\\\192.168.140.37\\Business-Share\\BI resources\\Dashboards\\Travix\\# Data\\\\'\n",
    "export_NL_BI_drive =  r'\\\\192.168.140.37\\\\Business-Share\\\\BI resources\\\\Dashboards\\\\Travix\\\\# Travix NL\\\\# Data\\\\'"
   ]
  },
  {
   "cell_type": "code",
   "execution_count": 9,
   "metadata": {},
   "outputs": [],
   "source": [
    " # import HS clean data\n",
    "HS_df1 = pd.read_csv(input_BI_drive+'20190701-present HS_clean_df.csv', error_bad_lines=False,low_memory=False)\n",
    "HS_df2 = pd.read_csv(input_BI_drive+'20180501-20190630 HS_clean_df.csv', error_bad_lines=False,low_memory=False)"
   ]
  },
  {
   "cell_type": "code",
   "execution_count": 10,
   "metadata": {},
   "outputs": [],
   "source": [
    "# Merge Travix csv files in folders with other csv files not in folders\n",
    "HS_df = pd.concat([HS_df1, HS_df2], sort = False)"
   ]
  },
  {
   "cell_type": "code",
   "execution_count": 23,
   "metadata": {},
   "outputs": [],
   "source": [
    "# make a copy of the dataset\n",
    "HS_T_df = HS_df.copy()\n",
    "# make a copy of the data set\n",
    "HS_T_df = HS_T_df.copy()"
   ]
  },
  {
   "cell_type": "markdown",
   "metadata": {},
   "source": [
    "# Data cleaning"
   ]
  },
  {
   "cell_type": "code",
   "execution_count": 24,
   "metadata": {},
   "outputs": [],
   "source": [
    "# Change date variable\n",
    "HS_T_df['date'] = pd.to_datetime(HS_T_df['date'])"
   ]
  },
  {
   "cell_type": "code",
   "execution_count": 25,
   "metadata": {},
   "outputs": [],
   "source": [
    "#Define the date we went live for NL channel \n",
    "Start_date = ('2018-06-01 00:00:00')"
   ]
  },
  {
   "cell_type": "code",
   "execution_count": 26,
   "metadata": {},
   "outputs": [
    {
     "data": {
      "text/plain": [
       "oneway    675777\n",
       "Name: triptype, dtype: int64"
      ]
     },
     "execution_count": 26,
     "metadata": {},
     "output_type": "execute_result"
    }
   ],
   "source": [
    "# Calculate the travel duration days so as to create travel duration bracket for additional metrics \n",
    "# change start and end date to datetime\n",
    "HS_T_df['startdate'] = pd.to_datetime(HS_T_df['startdate'])\n",
    "HS_T_df['enddate'] = pd.to_datetime(HS_T_df['enddate'])\n",
    "\n",
    "# Create travel duration brac\n",
    "# Calculate duration variable\n",
    "HS_T_df['Travelduration_recalc'] = HS_T_df['enddate'] - HS_T_df['startdate']\n",
    "\n",
    "#converting number of days to integer type\n",
    "HS_T_df['Travelduration_recalc']=HS_T_df['Travelduration_recalc'].dt.days\n",
    "\n",
    "#Check for missing data\n",
    "HS_T_df[HS_T_df['Travelduration_recalc'].isnull()]['triptype'].value_counts()"
   ]
  },
  {
   "cell_type": "code",
   "execution_count": 27,
   "metadata": {},
   "outputs": [],
   "source": [
    "# Select only NL channels\n",
    "#HS_T_NL_df=HS_T_df.loc[HS_T_df['Brand/Channel'].isin(['CheapticketsNL','BudgetAir','Vliegwinkel'])]\n",
    "HS_T_NL_df=HS_T_df.loc[HS_T_df['channel'].isin(['CheapticketsNL','BudgetAir','Vliegwinkel'])]"
   ]
  },
  {
   "cell_type": "code",
   "execution_count": 28,
   "metadata": {},
   "outputs": [],
   "source": [
    "#make a copy of the dataset\n",
    "HS_T_NL_df=HS_T_NL_df.copy()"
   ]
  },
  {
   "cell_type": "code",
   "execution_count": 29,
   "metadata": {},
   "outputs": [],
   "source": [
    "# Remove August 20-22 because the session ID in the Travix datadump doesn't match for those days. Session ID can be added again when data issue has been resolved\n",
    "HS_T_NL_df.drop(HS_T_NL_df[HS_T_NL_df['date'] == '2018-08-20'].index, inplace=True)\n",
    "HS_T_NL_df.drop(HS_T_NL_df[HS_T_NL_df['date'] == '2018-08-21'].index, inplace=True)\n",
    "HS_T_NL_df.drop(HS_T_NL_df[HS_T_NL_df['date'] == '2018-08-22'].index, inplace=True)\n",
    "# Remove Nov 1 and 2 due to Travix deployment failure\n",
    "HS_T_NL_df.drop(HS_T_NL_df[HS_T_NL_df['date'] == '2018-11-01'].index, inplace=True)\n",
    "HS_T_NL_df.drop(HS_T_NL_df[HS_T_NL_df['date'] == '2018-11-02'].index, inplace=True)"
   ]
  },
  {
   "cell_type": "code",
   "execution_count": 31,
   "metadata": {
    "scrolled": true
   },
   "outputs": [],
   "source": [
    "# Calculate the number of days to departure\n",
    "HS_T_NL_df['startdate'] = pd.to_datetime(HS_T_NL_df['startdate'])\n",
    "HS_T_NL_df['enddate'] = pd.to_datetime(HS_T_NL_df['enddate'])\n",
    "HS_T_NL_df['daystodep']=HS_T_NL_df['startdate']-HS_T_NL_df['date']"
   ]
  },
  {
   "cell_type": "code",
   "execution_count": 32,
   "metadata": {
    "scrolled": false
   },
   "outputs": [],
   "source": [
    "# Check if startdate is before booking date\n",
    "#HS_df[HS_df['date']>HS_df['startdate']]"
   ]
  },
  {
   "cell_type": "code",
   "execution_count": 33,
   "metadata": {},
   "outputs": [],
   "source": [
    "# Drop if startdate is before booking date\n",
    "HS_T_NL_df.drop(HS_T_NL_df[HS_T_NL_df['date']>HS_T_NL_df['startdate']].index, inplace=True)"
   ]
  },
  {
   "cell_type": "code",
   "execution_count": 34,
   "metadata": {},
   "outputs": [],
   "source": [
    "#converting number of days to integer type\n",
    "HS_T_NL_df['daystodep']=HS_T_NL_df['daystodep'].dt.days"
   ]
  },
  {
   "cell_type": "code",
   "execution_count": 35,
   "metadata": {},
   "outputs": [],
   "source": [
    "#Select relevant columns\n",
    "HS_T_BR_df=HS_T_NL_df[['date','channel','trafficcode','travelitemvalue', 'triptype','tagresidency','Main_products_count','premium_sum','tax_sum', 'totalcost_sum',\n",
    "'TR_Haul','premium58%','destination_region','Destination subregion','Origin region','Origin subregion','haul_type','World_Europe','HS_purchase','distributor_purchase',\n",
    "'product_type','masterpolicyfee_ex_tax&HS','HS_purchased_dist_revenue','Dist_vs_Hepstar','Order_week','Order_year','Order_month','Pricecalls','Travelduration_recalc','daystodep']]"
   ]
  },
  {
   "cell_type": "code",
   "execution_count": 36,
   "metadata": {},
   "outputs": [],
   "source": [
    "#Create a copy of the data\n",
    "HS_T_BR_df=HS_T_BR_df.copy()"
   ]
  },
  {
   "cell_type": "code",
   "execution_count": 37,
   "metadata": {},
   "outputs": [],
   "source": [
    "#rename distributor to control\n",
    "HS_T_BR_df['Dist_vs_Hepstar'].replace('Distributor', 'Control',inplace=True)"
   ]
  },
  {
   "cell_type": "code",
   "execution_count": 39,
   "metadata": {},
   "outputs": [],
   "source": [
    "#Exclude Refund protect data\n",
    "HS_T_BR_df=HS_T_BR_df[~HS_T_BR_df['trafficcode'].str.contains('RP')]"
   ]
  },
  {
   "cell_type": "code",
   "execution_count": 40,
   "metadata": {},
   "outputs": [
    {
     "data": {
      "text/plain": [
       "date                               0\n",
       "channel                            0\n",
       "trafficcode                        0\n",
       "travelitemvalue                   46\n",
       "triptype                           0\n",
       "tagresidency                    2449\n",
       "Main_products_count            44908\n",
       "premium_sum                        0\n",
       "tax_sum                            0\n",
       "totalcost_sum                      0\n",
       "TR_Haul                      1060094\n",
       "premium58%                         0\n",
       "destination_region                 0\n",
       "Destination subregion              0\n",
       "Origin region                      0\n",
       "Origin subregion                   0\n",
       "haul_type                          0\n",
       "World_Europe                       0\n",
       "HS_purchase                        0\n",
       "distributor_purchase               0\n",
       "product_type                       0\n",
       "masterpolicyfee_ex_tax&HS          0\n",
       "HS_purchased_dist_revenue          0\n",
       "Dist_vs_Hepstar                    0\n",
       "Order_week                         0\n",
       "Order_year                         0\n",
       "Order_month                        0\n",
       "Pricecalls                         0\n",
       "Travelduration_recalc         358419\n",
       "daystodep                          0\n",
       "dtype: int64"
      ]
     },
     "execution_count": 40,
     "metadata": {},
     "output_type": "execute_result"
    }
   ],
   "source": [
    "#Check if there is any  missing data\n",
    "HS_T_BR_df.isnull().sum()"
   ]
  },
  {
   "cell_type": "code",
   "execution_count": 41,
   "metadata": {},
   "outputs": [],
   "source": [
    "#Fill missing values with n/a\n",
    "HS_T_BR_df.fillna(0, inplace=True)"
   ]
  },
  {
   "cell_type": "code",
   "execution_count": 42,
   "metadata": {},
   "outputs": [
    {
     "data": {
      "text/plain": [
       "date                         0\n",
       "channel                      0\n",
       "trafficcode                  0\n",
       "travelitemvalue              0\n",
       "triptype                     0\n",
       "tagresidency                 0\n",
       "Main_products_count          0\n",
       "premium_sum                  0\n",
       "tax_sum                      0\n",
       "totalcost_sum                0\n",
       "TR_Haul                      0\n",
       "premium58%                   0\n",
       "destination_region           0\n",
       "Destination subregion        0\n",
       "Origin region                0\n",
       "Origin subregion             0\n",
       "haul_type                    0\n",
       "World_Europe                 0\n",
       "HS_purchase                  0\n",
       "distributor_purchase         0\n",
       "product_type                 0\n",
       "masterpolicyfee_ex_tax&HS    0\n",
       "HS_purchased_dist_revenue    0\n",
       "Dist_vs_Hepstar              0\n",
       "Order_week                   0\n",
       "Order_year                   0\n",
       "Order_month                  0\n",
       "Pricecalls                   0\n",
       "Travelduration_recalc        0\n",
       "daystodep                    0\n",
       "dtype: int64"
      ]
     },
     "execution_count": 42,
     "metadata": {},
     "output_type": "execute_result"
    }
   ],
   "source": [
    "#Check if there are still any missing values\n",
    "HS_T_BR_df.isnull().sum()"
   ]
  },
  {
   "cell_type": "code",
   "execution_count": 43,
   "metadata": {},
   "outputs": [],
   "source": [
    "#rename distributor to control\n",
    "HS_T_BR_df['Dist_vs_Hepstar'].replace('Distributor', 'Control',inplace=True)"
   ]
  },
  {
   "cell_type": "code",
   "execution_count": null,
   "metadata": {},
   "outputs": [],
   "source": []
  },
  {
   "cell_type": "markdown",
   "metadata": {},
   "source": [
    "### Create top10 Tagresidency column"
   ]
  },
  {
   "cell_type": "code",
   "execution_count": 44,
   "metadata": {},
   "outputs": [],
   "source": [
    "# Create variable with top 10 residency countries\n",
    "# Create a list of top 10 residency countries\n",
    "Top10residency = HS_T_BR_df['tagresidency'].value_counts()[:10].index.tolist()\n",
    "# Put 2 code  top 10 residency countries using list\n",
    "HS_T_BR_df[\"Top10residency\"] = np.where(HS_T_BR_df[\"tagresidency\"].isin(Top10residency), HS_T_BR_df[\"tagresidency\"], \"SubTop10\")"
   ]
  },
  {
   "cell_type": "code",
   "execution_count": 45,
   "metadata": {
    "scrolled": true
   },
   "outputs": [
    {
     "data": {
      "text/plain": [
       "nl          1497119\n",
       "be            33754\n",
       "SubTop10      26263\n",
       "de             3900\n",
       "us             3411\n",
       "es             2603\n",
       "0              2449\n",
       "gb             2194\n",
       "fr             1658\n",
       "ch             1344\n",
       "ro             1213\n",
       "Name: Top10residency, dtype: int64"
      ]
     },
     "execution_count": 45,
     "metadata": {},
     "output_type": "execute_result"
    }
   ],
   "source": [
    "#Checks\n",
    "HS_T_BR_df[\"Top10residency\"].value_counts()"
   ]
  },
  {
   "cell_type": "markdown",
   "metadata": {},
   "source": [
    "## Create pivot table "
   ]
  },
  {
   "cell_type": "code",
   "execution_count": 46,
   "metadata": {},
   "outputs": [],
   "source": [
    "#Create a pivot table that groups data per year, week, haul and policy type\n",
    "HS_T_BR_pv_df=HS_T_BR_df.pivot_table(index=['date','Order_year','Order_week','Order_month','TR_Haul', 'channel',\n",
    "'triptype', 'Top10residency','Main_products_count','destination_region',\n",
    "'Destination subregion','Origin region','Origin subregion','haul_type','World_Europe','product_type','Dist_vs_Hepstar'], aggfunc='sum')"
   ]
  },
  {
   "cell_type": "code",
   "execution_count": 47,
   "metadata": {},
   "outputs": [],
   "source": [
    "#Reset the index for the pivot table \n",
    "HS_T_BR_pv_df.reset_index(inplace=True)"
   ]
  },
  {
   "cell_type": "code",
   "execution_count": 48,
   "metadata": {},
   "outputs": [
    {
     "data": {
      "text/plain": [
       "4.656612873077393e-10"
      ]
     },
     "execution_count": 48,
     "metadata": {},
     "output_type": "execute_result"
    }
   ],
   "source": [
    "#Compare original data with the pivot data \n",
    "HS_T_BR_pv_df['premium_sum'].sum()-HS_T_BR_df['premium_sum'].sum()"
   ]
  },
  {
   "cell_type": "code",
   "execution_count": 49,
   "metadata": {},
   "outputs": [],
   "source": [
    "#HS_T_BR_pv_df[HS_T_BR_pv_df['date'].max() - pd.to_timedelta(\"28day\")]"
   ]
  },
  {
   "cell_type": "code",
   "execution_count": 50,
   "metadata": {},
   "outputs": [
    {
     "data": {
      "text/plain": [
       "Timestamp('2020-05-10 00:00:00')"
      ]
     },
     "execution_count": 50,
     "metadata": {},
     "output_type": "execute_result"
    }
   ],
   "source": [
    "HS_T_BR_pv_df['date'].max()"
   ]
  },
  {
   "cell_type": "code",
   "execution_count": 119,
   "metadata": {},
   "outputs": [],
   "source": [
    "#Select last 4 weeks data for invesigation purposes\n",
    "HS_T_BR_4wks_df=HS_T_BR_pv_df[HS_T_BR_pv_df['Order_year']==2020]\n",
    "HS_T_BR_4wks_df=HS_T_BR_4wks_df[HS_T_BR_4wks_df['Order_week'] >= HS_T_BR_4wks_df['Order_week'].max()-4]"
   ]
  },
  {
   "cell_type": "code",
   "execution_count": 120,
   "metadata": {},
   "outputs": [],
   "source": [
    "#Export data\n",
    "HS_T_BR_pv_df.to_csv(export_NL_BI_drive+'TravixNL Board update pivoted data.csv',index=True)\n",
    "HS_T_BR_4wks_df.to_csv(export_NL_BI_drive+'TravixNL Board update data last 4 weeks.csv',index=True)\n",
    "#HS_T_pivot_df.to_csv(export_BI_drive+'20190620 Board update grouped data.csv',index=True)"
   ]
  },
  {
   "cell_type": "markdown",
   "metadata": {},
   "source": [
    "# Board Report update workbook"
   ]
  },
  {
   "cell_type": "code",
   "execution_count": 54,
   "metadata": {},
   "outputs": [],
   "source": [
    "HS_T_BR_update_df=HS_T_BR_df[['date','Dist_vs_Hepstar','World_Europe', 'triptype', 'premium58%', 'Pricecalls']]"
   ]
  },
  {
   "cell_type": "code",
   "execution_count": 55,
   "metadata": {},
   "outputs": [],
   "source": [
    "HS_T_BR_update_df=HS_T_BR_update_df.copy()"
   ]
  },
  {
   "cell_type": "code",
   "execution_count": 56,
   "metadata": {},
   "outputs": [],
   "source": [
    "#Select relevant columns for the board report pivot tables\n",
    "HS_T_BR_update_df= HS_T_BR_update_df[['date','Dist_vs_Hepstar','World_Europe', 'triptype', 'premium58%', 'Pricecalls']]"
   ]
  },
  {
   "cell_type": "code",
   "execution_count": 57,
   "metadata": {},
   "outputs": [],
   "source": [
    "HS_T_BR_update_df=HS_T_BR_update_df.copy()"
   ]
  },
  {
   "cell_type": "code",
   "execution_count": 58,
   "metadata": {},
   "outputs": [],
   "source": [
    "HS_T_BR_update_df['date'] = pd.to_datetime(HS_T_BR_update_df['date'])"
   ]
  },
  {
   "cell_type": "code",
   "execution_count": 59,
   "metadata": {},
   "outputs": [],
   "source": [
    "#Create columns that indicate start and end date\n",
    "HS_T_BR_update_df['End_date']=HS_T_BR_update_df['date'].max()\n",
    "HS_T_BR_update_df['Start_date']=HS_T_BR_update_df['date'].min()"
   ]
  },
  {
   "cell_type": "markdown",
   "metadata": {},
   "source": [
    "## Overall KPI performance Distr vs HS"
   ]
  },
  {
   "cell_type": "markdown",
   "metadata": {},
   "source": [
    "### Overall"
   ]
  },
  {
   "cell_type": "code",
   "execution_count": 60,
   "metadata": {},
   "outputs": [],
   "source": [
    "#Select relevant columns\n",
    "Dist_vs_HS_df =HS_T_BR_update_df[['Dist_vs_Hepstar', 'premium58%', 'Pricecalls','Start_date', 'End_date']]"
   ]
  },
  {
   "cell_type": "code",
   "execution_count": 61,
   "metadata": {},
   "outputs": [],
   "source": [
    "#Create a pivot table for the overall KPI perfomance with all the data\n",
    "Dist_vs_HS_pivot_df = Dist_vs_HS_df.pivot_table(index=['Dist_vs_Hepstar','Start_date', 'End_date'], aggfunc='sum')"
   ]
  },
  {
   "cell_type": "code",
   "execution_count": 62,
   "metadata": {},
   "outputs": [],
   "source": [
    "#Reset the index for the pivot table \n",
    "Dist_vs_HS_pivot_df.reset_index(inplace=True)"
   ]
  },
  {
   "cell_type": "code",
   "execution_count": 63,
   "metadata": {},
   "outputs": [],
   "source": [
    "#Set index to distributor vs Hepstar column\n",
    "Dist_vs_HS_pivot_df.set_index('Dist_vs_Hepstar', inplace=True)"
   ]
  },
  {
   "cell_type": "code",
   "execution_count": 64,
   "metadata": {},
   "outputs": [],
   "source": [
    "#Create a column that indicates RPB per distributor\n",
    "Dist_vs_HS_pivot_df['RPA']=Dist_vs_HS_pivot_df['premium58%']/Dist_vs_HS_pivot_df['Pricecalls']"
   ]
  },
  {
   "cell_type": "markdown",
   "metadata": {},
   "source": [
    "### Last 30 days"
   ]
  },
  {
   "cell_type": "code",
   "execution_count": 65,
   "metadata": {},
   "outputs": [],
   "source": [
    "#Select last 30 days of data\n",
    "Dist_vs_HS_30days_df = HS_T_BR_update_df[HS_T_BR_update_df['date'] > HS_T_BR_update_df['date'].max() - pd.to_timedelta(\"30day\")]"
   ]
  },
  {
   "cell_type": "code",
   "execution_count": 66,
   "metadata": {},
   "outputs": [
    {
     "data": {
      "text/plain": [
       "30"
      ]
     },
     "execution_count": 66,
     "metadata": {},
     "output_type": "execute_result"
    }
   ],
   "source": [
    "#Check the number of selected days\n",
    "Dist_vs_HS_30days_df['date'].nunique()"
   ]
  },
  {
   "cell_type": "code",
   "execution_count": 67,
   "metadata": {},
   "outputs": [
    {
     "data": {
      "text/plain": [
       "Timestamp('2020-05-10 00:00:00')"
      ]
     },
     "execution_count": 67,
     "metadata": {},
     "output_type": "execute_result"
    }
   ],
   "source": [
    "Dist_vs_HS_30days_df['date'].max()"
   ]
  },
  {
   "cell_type": "code",
   "execution_count": 68,
   "metadata": {},
   "outputs": [],
   "source": [
    "#Select relevant columns\n",
    "Dist_vs_HS_30days_df =Dist_vs_HS_30days_df[['Dist_vs_Hepstar','premium58%', 'Pricecalls','Start_date', 'End_date']]"
   ]
  },
  {
   "cell_type": "code",
   "execution_count": 69,
   "metadata": {},
   "outputs": [],
   "source": [
    "#Create a pivot table\n",
    "Dist_vs_HS_pv_30days_df= Dist_vs_HS_30days_df.pivot_table(index=['Dist_vs_Hepstar','Start_date', 'End_date' ], aggfunc='sum')"
   ]
  },
  {
   "cell_type": "code",
   "execution_count": 70,
   "metadata": {},
   "outputs": [],
   "source": [
    "#Reset the index for the pivot table \n",
    "Dist_vs_HS_pv_30days_df.reset_index(inplace=True)"
   ]
  },
  {
   "cell_type": "code",
   "execution_count": 71,
   "metadata": {},
   "outputs": [],
   "source": [
    "#rename Hepstar to Hepstar last 30 days to distinguish between the two \n",
    "Dist_vs_HS_pv_30days_df['Dist_vs_Hepstar'].replace('Hepstar', 'Hepstar_last_30 days',inplace=True)"
   ]
  },
  {
   "cell_type": "code",
   "execution_count": 72,
   "metadata": {},
   "outputs": [],
   "source": [
    "#Set index to distributor vs Hepstar column\n",
    "Dist_vs_HS_pv_30days_df.set_index('Dist_vs_Hepstar', inplace=True)"
   ]
  },
  {
   "cell_type": "code",
   "execution_count": 73,
   "metadata": {},
   "outputs": [],
   "source": [
    "#Create a column that indicates RPB per region\n",
    "Dist_vs_HS_pv_30days_df['RPA']=Dist_vs_HS_pv_30days_df['premium58%']/Dist_vs_HS_pv_30days_df['Pricecalls']"
   ]
  },
  {
   "cell_type": "markdown",
   "metadata": {},
   "source": [
    "### Merge overall and last 30 days data "
   ]
  },
  {
   "cell_type": "code",
   "execution_count": 74,
   "metadata": {},
   "outputs": [],
   "source": [
    "#Combine overall and last 30 days data  to one dataframe\n",
    "Dist_vs_HS_all_rows_df = pd.concat([Dist_vs_HS_pivot_df, Dist_vs_HS_pv_30days_df],sort=False)"
   ]
  },
  {
   "cell_type": "code",
   "execution_count": 75,
   "metadata": {},
   "outputs": [
    {
     "data": {
      "text/html": [
       "<div>\n",
       "<style scoped>\n",
       "    .dataframe tbody tr th:only-of-type {\n",
       "        vertical-align: middle;\n",
       "    }\n",
       "\n",
       "    .dataframe tbody tr th {\n",
       "        vertical-align: top;\n",
       "    }\n",
       "\n",
       "    .dataframe thead th {\n",
       "        text-align: right;\n",
       "    }\n",
       "</style>\n",
       "<table border=\"1\" class=\"dataframe\">\n",
       "  <thead>\n",
       "    <tr style=\"text-align: right;\">\n",
       "      <th></th>\n",
       "      <th>Start_date</th>\n",
       "      <th>End_date</th>\n",
       "      <th>Pricecalls</th>\n",
       "      <th>premium58%</th>\n",
       "      <th>RPA</th>\n",
       "    </tr>\n",
       "    <tr>\n",
       "      <th>Dist_vs_Hepstar</th>\n",
       "      <th></th>\n",
       "      <th></th>\n",
       "      <th></th>\n",
       "      <th></th>\n",
       "      <th></th>\n",
       "    </tr>\n",
       "  </thead>\n",
       "  <tbody>\n",
       "    <tr>\n",
       "      <td>Control</td>\n",
       "      <td>2018-05-03</td>\n",
       "      <td>2020-05-10</td>\n",
       "      <td>143816</td>\n",
       "      <td>9.816247e+04</td>\n",
       "      <td>0.682556</td>\n",
       "    </tr>\n",
       "    <tr>\n",
       "      <td>Hepstar</td>\n",
       "      <td>2018-05-03</td>\n",
       "      <td>2020-05-10</td>\n",
       "      <td>1432092</td>\n",
       "      <td>1.063358e+06</td>\n",
       "      <td>0.742521</td>\n",
       "    </tr>\n",
       "    <tr>\n",
       "      <td>Hepstar_last_30 days</td>\n",
       "      <td>2018-05-03</td>\n",
       "      <td>2020-05-10</td>\n",
       "      <td>2992</td>\n",
       "      <td>3.385796e+03</td>\n",
       "      <td>1.131616</td>\n",
       "    </tr>\n",
       "  </tbody>\n",
       "</table>\n",
       "</div>"
      ],
      "text/plain": [
       "                     Start_date   End_date  Pricecalls    premium58%       RPA\n",
       "Dist_vs_Hepstar                                                               \n",
       "Control              2018-05-03 2020-05-10      143816  9.816247e+04  0.682556\n",
       "Hepstar              2018-05-03 2020-05-10     1432092  1.063358e+06  0.742521\n",
       "Hepstar_last_30 days 2018-05-03 2020-05-10        2992  3.385796e+03  1.131616"
      ]
     },
     "execution_count": 75,
     "metadata": {},
     "output_type": "execute_result"
    }
   ],
   "source": [
    "Dist_vs_HS_all_rows_df"
   ]
  },
  {
   "cell_type": "code",
   "execution_count": 77,
   "metadata": {},
   "outputs": [],
   "source": [
    "# Export data\n",
    "#Dist_vs_HS_all_rows_df.to_csv(export_local+'TravixNL_board_Control_inception and 30 days.csv',index=True)\n",
    "Dist_vs_HS_all_rows_df.to_csv(export_NL_BI_drive+'TravixNL_board_Control_inception and 30 days.csv',index=True)"
   ]
  },
  {
   "cell_type": "markdown",
   "metadata": {},
   "source": [
    "## KPI performance"
   ]
  },
  {
   "cell_type": "markdown",
   "metadata": {},
   "source": [
    "### Overall"
   ]
  },
  {
   "cell_type": "code",
   "execution_count": 78,
   "metadata": {},
   "outputs": [],
   "source": [
    "#Select relevant columns\n",
    "KPI_perf_df= HS_T_BR_update_df[['World_Europe', 'premium58%', 'Pricecalls','Start_date', 'End_date']]"
   ]
  },
  {
   "cell_type": "code",
   "execution_count": 79,
   "metadata": {},
   "outputs": [],
   "source": [
    "#Create a pivot table for the KPI perfomance with all the data\n",
    "KPI_perf_pivot_df=KPI_perf_df.pivot_table(index=['World_Europe','Start_date', 'End_date'], aggfunc='sum')"
   ]
  },
  {
   "cell_type": "code",
   "execution_count": 80,
   "metadata": {},
   "outputs": [],
   "source": [
    "#Reset the index for the pivot table \n",
    "KPI_perf_pivot_df.reset_index(inplace=True)"
   ]
  },
  {
   "cell_type": "code",
   "execution_count": 81,
   "metadata": {},
   "outputs": [],
   "source": [
    "#Set index to World_Europe column\n",
    "KPI_perf_pivot_df.set_index('World_Europe', inplace=True)"
   ]
  },
  {
   "cell_type": "code",
   "execution_count": 82,
   "metadata": {},
   "outputs": [],
   "source": [
    "#Insert a row that sums values per columns\n",
    "KPI_perf_pivot_df.loc['Overall']=KPI_perf_pivot_df.sum()"
   ]
  },
  {
   "cell_type": "code",
   "execution_count": 83,
   "metadata": {},
   "outputs": [],
   "source": [
    "#Create a column that indicates RPB per region\n",
    "KPI_perf_pivot_df['RPA']=KPI_perf_pivot_df['premium58%']/KPI_perf_pivot_df['Pricecalls']"
   ]
  },
  {
   "cell_type": "code",
   "execution_count": 84,
   "metadata": {},
   "outputs": [
    {
     "data": {
      "text/html": [
       "<div>\n",
       "<style scoped>\n",
       "    .dataframe tbody tr th:only-of-type {\n",
       "        vertical-align: middle;\n",
       "    }\n",
       "\n",
       "    .dataframe tbody tr th {\n",
       "        vertical-align: top;\n",
       "    }\n",
       "\n",
       "    .dataframe thead th {\n",
       "        text-align: right;\n",
       "    }\n",
       "</style>\n",
       "<table border=\"1\" class=\"dataframe\">\n",
       "  <thead>\n",
       "    <tr style=\"text-align: right;\">\n",
       "      <th></th>\n",
       "      <th>Start_date</th>\n",
       "      <th>End_date</th>\n",
       "      <th>Pricecalls</th>\n",
       "      <th>premium58%</th>\n",
       "      <th>RPA</th>\n",
       "    </tr>\n",
       "    <tr>\n",
       "      <th>World_Europe</th>\n",
       "      <th></th>\n",
       "      <th></th>\n",
       "      <th></th>\n",
       "      <th></th>\n",
       "      <th></th>\n",
       "    </tr>\n",
       "  </thead>\n",
       "  <tbody>\n",
       "    <tr>\n",
       "      <td>Long haul</td>\n",
       "      <td>2018-05-03</td>\n",
       "      <td>2020-05-10</td>\n",
       "      <td>656080.0</td>\n",
       "      <td>7.554680e+05</td>\n",
       "      <td>1.151488</td>\n",
       "    </tr>\n",
       "    <tr>\n",
       "      <td>Short haul</td>\n",
       "      <td>2018-05-03</td>\n",
       "      <td>2020-05-10</td>\n",
       "      <td>919828.0</td>\n",
       "      <td>4.060523e+05</td>\n",
       "      <td>0.441444</td>\n",
       "    </tr>\n",
       "    <tr>\n",
       "      <td>Overall</td>\n",
       "      <td>NaT</td>\n",
       "      <td>NaT</td>\n",
       "      <td>1575908.0</td>\n",
       "      <td>1.161520e+06</td>\n",
       "      <td>0.737048</td>\n",
       "    </tr>\n",
       "  </tbody>\n",
       "</table>\n",
       "</div>"
      ],
      "text/plain": [
       "             Start_date   End_date  Pricecalls    premium58%       RPA\n",
       "World_Europe                                                          \n",
       "Long haul    2018-05-03 2020-05-10    656080.0  7.554680e+05  1.151488\n",
       "Short haul   2018-05-03 2020-05-10    919828.0  4.060523e+05  0.441444\n",
       "Overall             NaT        NaT   1575908.0  1.161520e+06  0.737048"
      ]
     },
     "execution_count": 84,
     "metadata": {},
     "output_type": "execute_result"
    }
   ],
   "source": [
    "KPI_perf_pivot_df"
   ]
  },
  {
   "cell_type": "markdown",
   "metadata": {},
   "source": [
    "### Last 2 weeks"
   ]
  },
  {
   "cell_type": "code",
   "execution_count": 85,
   "metadata": {},
   "outputs": [],
   "source": [
    "# Select data for the last 2 weeks \n",
    "KPI_perf_lst_2wks_df = HS_T_BR_update_df[HS_T_BR_update_df['date'] > HS_T_BR_update_df['date'].max() - pd.to_timedelta(\"14day\")]"
   ]
  },
  {
   "cell_type": "code",
   "execution_count": 86,
   "metadata": {},
   "outputs": [],
   "source": [
    "#Create a copy of the dataset\n",
    "KPI_perf_lst_2wks_df=KPI_perf_lst_2wks_df.copy()"
   ]
  },
  {
   "cell_type": "code",
   "execution_count": 87,
   "metadata": {},
   "outputs": [
    {
     "data": {
      "text/plain": [
       "14"
      ]
     },
     "execution_count": 87,
     "metadata": {},
     "output_type": "execute_result"
    }
   ],
   "source": [
    "#Check the number of selected days\n",
    "KPI_perf_lst_2wks_df['date'].nunique()"
   ]
  },
  {
   "cell_type": "code",
   "execution_count": 88,
   "metadata": {},
   "outputs": [],
   "source": [
    "#Create a pivot table with last 2 weeks of data\n",
    "KPI_perf_lst_2wks_pivot_df=KPI_perf_lst_2wks_df.pivot_table(index=['World_Europe','Start_date', 'End_date'], aggfunc='sum')"
   ]
  },
  {
   "cell_type": "code",
   "execution_count": 89,
   "metadata": {},
   "outputs": [],
   "source": [
    "#Reset the index for the pivot table \n",
    "KPI_perf_lst_2wks_pivot_df.reset_index(inplace=True)"
   ]
  },
  {
   "cell_type": "code",
   "execution_count": 90,
   "metadata": {},
   "outputs": [],
   "source": [
    "#Rename World Europe categories to match board report workbook\n",
    "#rename World  to Long haul\n",
    "KPI_perf_lst_2wks_pivot_df['World_Europe'].replace('Long haul', 'Long haul_2wks',inplace=True)\n",
    "#rename Europe  to Short haul\n",
    "KPI_perf_lst_2wks_pivot_df['World_Europe'].replace('Short haul', 'Short haul_2wks', inplace=True)"
   ]
  },
  {
   "cell_type": "code",
   "execution_count": 91,
   "metadata": {},
   "outputs": [],
   "source": [
    "#Set index to World_Europe column\n",
    "KPI_perf_lst_2wks_pivot_df.set_index('World_Europe', inplace=True)"
   ]
  },
  {
   "cell_type": "code",
   "execution_count": 92,
   "metadata": {},
   "outputs": [],
   "source": [
    "#Insert a row that sums values per columns\n",
    "KPI_perf_lst_2wks_pivot_df.loc['Overall_2wks']=KPI_perf_lst_2wks_pivot_df.sum()"
   ]
  },
  {
   "cell_type": "code",
   "execution_count": 93,
   "metadata": {},
   "outputs": [],
   "source": [
    "#Create a column that indicates RPB per region\n",
    "KPI_perf_lst_2wks_pivot_df['RPA']=KPI_perf_lst_2wks_pivot_df['premium58%']/KPI_perf_lst_2wks_pivot_df['Pricecalls']"
   ]
  },
  {
   "cell_type": "markdown",
   "metadata": {},
   "source": [
    "### Merge overall and last 2 weeks KPI  data "
   ]
  },
  {
   "cell_type": "code",
   "execution_count": 94,
   "metadata": {},
   "outputs": [],
   "source": [
    "#Combine overall and last 30 days data  to one dataframe\n",
    "KPI_perf_all_rows_df = pd.concat([KPI_perf_pivot_df, KPI_perf_lst_2wks_pivot_df],sort=False)"
   ]
  },
  {
   "cell_type": "code",
   "execution_count": 95,
   "metadata": {},
   "outputs": [
    {
     "data": {
      "text/html": [
       "<div>\n",
       "<style scoped>\n",
       "    .dataframe tbody tr th:only-of-type {\n",
       "        vertical-align: middle;\n",
       "    }\n",
       "\n",
       "    .dataframe tbody tr th {\n",
       "        vertical-align: top;\n",
       "    }\n",
       "\n",
       "    .dataframe thead th {\n",
       "        text-align: right;\n",
       "    }\n",
       "</style>\n",
       "<table border=\"1\" class=\"dataframe\">\n",
       "  <thead>\n",
       "    <tr style=\"text-align: right;\">\n",
       "      <th></th>\n",
       "      <th>Start_date</th>\n",
       "      <th>End_date</th>\n",
       "      <th>Pricecalls</th>\n",
       "      <th>premium58%</th>\n",
       "      <th>RPA</th>\n",
       "    </tr>\n",
       "    <tr>\n",
       "      <th>World_Europe</th>\n",
       "      <th></th>\n",
       "      <th></th>\n",
       "      <th></th>\n",
       "      <th></th>\n",
       "      <th></th>\n",
       "    </tr>\n",
       "  </thead>\n",
       "  <tbody>\n",
       "    <tr>\n",
       "      <td>Long haul</td>\n",
       "      <td>2018-05-03</td>\n",
       "      <td>2020-05-10</td>\n",
       "      <td>656080.0</td>\n",
       "      <td>7.554680e+05</td>\n",
       "      <td>1.151488</td>\n",
       "    </tr>\n",
       "    <tr>\n",
       "      <td>Short haul</td>\n",
       "      <td>2018-05-03</td>\n",
       "      <td>2020-05-10</td>\n",
       "      <td>919828.0</td>\n",
       "      <td>4.060523e+05</td>\n",
       "      <td>0.441444</td>\n",
       "    </tr>\n",
       "    <tr>\n",
       "      <td>Overall</td>\n",
       "      <td>NaT</td>\n",
       "      <td>NaT</td>\n",
       "      <td>1575908.0</td>\n",
       "      <td>1.161520e+06</td>\n",
       "      <td>0.737048</td>\n",
       "    </tr>\n",
       "    <tr>\n",
       "      <td>Long haul_2wks</td>\n",
       "      <td>2018-05-03</td>\n",
       "      <td>2020-05-10</td>\n",
       "      <td>646.0</td>\n",
       "      <td>8.299568e+02</td>\n",
       "      <td>1.284763</td>\n",
       "    </tr>\n",
       "    <tr>\n",
       "      <td>Short haul_2wks</td>\n",
       "      <td>2018-05-03</td>\n",
       "      <td>2020-05-10</td>\n",
       "      <td>1011.0</td>\n",
       "      <td>7.909170e+02</td>\n",
       "      <td>0.782312</td>\n",
       "    </tr>\n",
       "    <tr>\n",
       "      <td>Overall_2wks</td>\n",
       "      <td>NaT</td>\n",
       "      <td>NaT</td>\n",
       "      <td>1657.0</td>\n",
       "      <td>1.620874e+03</td>\n",
       "      <td>0.978198</td>\n",
       "    </tr>\n",
       "  </tbody>\n",
       "</table>\n",
       "</div>"
      ],
      "text/plain": [
       "                Start_date   End_date  Pricecalls    premium58%       RPA\n",
       "World_Europe                                                             \n",
       "Long haul       2018-05-03 2020-05-10    656080.0  7.554680e+05  1.151488\n",
       "Short haul      2018-05-03 2020-05-10    919828.0  4.060523e+05  0.441444\n",
       "Overall                NaT        NaT   1575908.0  1.161520e+06  0.737048\n",
       "Long haul_2wks  2018-05-03 2020-05-10       646.0  8.299568e+02  1.284763\n",
       "Short haul_2wks 2018-05-03 2020-05-10      1011.0  7.909170e+02  0.782312\n",
       "Overall_2wks           NaT        NaT      1657.0  1.620874e+03  0.978198"
      ]
     },
     "execution_count": 95,
     "metadata": {},
     "output_type": "execute_result"
    }
   ],
   "source": [
    "KPI_perf_all_rows_df"
   ]
  },
  {
   "cell_type": "markdown",
   "metadata": {},
   "source": [
    "### Last 3rd and 4th week"
   ]
  },
  {
   "cell_type": "code",
   "execution_count": 96,
   "metadata": {},
   "outputs": [],
   "source": [
    "# Last 3rd week from current week\n",
    "# Select data for the last 3rd and 4th week\n",
    "KPI_perf_lst_3wks_df = HS_T_BR_update_df[HS_T_BR_update_df['date'] > HS_T_BR_update_df['date'].max() - pd.to_timedelta(\"28day\")]\n",
    "#Make a copy of the data\n",
    "KPI_perf_lst_3wks_df=KPI_perf_lst_3wks_df.copy()"
   ]
  },
  {
   "cell_type": "code",
   "execution_count": 97,
   "metadata": {},
   "outputs": [],
   "source": [
    "#Remove data for the last 2 weks so as to have data for the 3rd and 4th previous weeks from the current week\n",
    "KPI_perf_lst_3wks_df=KPI_perf_lst_3wks_df[KPI_perf_lst_3wks_df['date'] <= KPI_perf_lst_3wks_df['date'].max() - pd.to_timedelta(\"14day\")]"
   ]
  },
  {
   "cell_type": "code",
   "execution_count": 98,
   "metadata": {},
   "outputs": [
    {
     "data": {
      "text/plain": [
       "14"
      ]
     },
     "execution_count": 98,
     "metadata": {},
     "output_type": "execute_result"
    }
   ],
   "source": [
    "#Check the number of selected days\n",
    "KPI_perf_lst_3wks_df['date'].nunique()"
   ]
  },
  {
   "cell_type": "code",
   "execution_count": 99,
   "metadata": {},
   "outputs": [],
   "source": [
    "#Create a pivot table with last 2 weeks of data\n",
    "KPI_perf_lst_3wks_pivot_df=KPI_perf_lst_3wks_df.pivot_table(index=['World_Europe','Start_date', 'End_date'], aggfunc='sum')"
   ]
  },
  {
   "cell_type": "code",
   "execution_count": 100,
   "metadata": {},
   "outputs": [
    {
     "data": {
      "text/plain": [
       "Timestamp('2020-04-13 00:00:00')"
      ]
     },
     "execution_count": 100,
     "metadata": {},
     "output_type": "execute_result"
    }
   ],
   "source": [
    "KPI_perf_lst_3wks_df['date'].min()"
   ]
  },
  {
   "cell_type": "code",
   "execution_count": 101,
   "metadata": {},
   "outputs": [],
   "source": [
    "#Reset the index for the pivot table \n",
    "KPI_perf_lst_3wks_pivot_df.reset_index(inplace=True)"
   ]
  },
  {
   "cell_type": "code",
   "execution_count": 102,
   "metadata": {},
   "outputs": [],
   "source": [
    "#Rename World Europe categories to match board report workbook\n",
    "#rename World  to Long haul\n",
    "KPI_perf_lst_3wks_pivot_df['World_Europe'].replace('Long haul', 'Long haul_last_3rd_wk',inplace=True)\n",
    "#rename Europe  to Short haul\n",
    "KPI_perf_lst_3wks_pivot_df['World_Europe'].replace('Short haul', 'Short haul_last_3rd_wk', inplace=True)"
   ]
  },
  {
   "cell_type": "code",
   "execution_count": 103,
   "metadata": {},
   "outputs": [],
   "source": [
    "#Set index to World_Europe column\n",
    "KPI_perf_lst_3wks_pivot_df.set_index('World_Europe', inplace=True)"
   ]
  },
  {
   "cell_type": "code",
   "execution_count": 104,
   "metadata": {},
   "outputs": [],
   "source": [
    "#Insert a row that sums values per columns\n",
    "KPI_perf_lst_3wks_pivot_df.loc['Overall_3rd_wk']=KPI_perf_lst_3wks_pivot_df.sum()"
   ]
  },
  {
   "cell_type": "code",
   "execution_count": 105,
   "metadata": {},
   "outputs": [
    {
     "data": {
      "text/html": [
       "<div>\n",
       "<style scoped>\n",
       "    .dataframe tbody tr th:only-of-type {\n",
       "        vertical-align: middle;\n",
       "    }\n",
       "\n",
       "    .dataframe tbody tr th {\n",
       "        vertical-align: top;\n",
       "    }\n",
       "\n",
       "    .dataframe thead th {\n",
       "        text-align: right;\n",
       "    }\n",
       "</style>\n",
       "<table border=\"1\" class=\"dataframe\">\n",
       "  <thead>\n",
       "    <tr style=\"text-align: right;\">\n",
       "      <th></th>\n",
       "      <th>Start_date</th>\n",
       "      <th>End_date</th>\n",
       "      <th>Pricecalls</th>\n",
       "      <th>premium58%</th>\n",
       "    </tr>\n",
       "    <tr>\n",
       "      <th>World_Europe</th>\n",
       "      <th></th>\n",
       "      <th></th>\n",
       "      <th></th>\n",
       "      <th></th>\n",
       "    </tr>\n",
       "  </thead>\n",
       "  <tbody>\n",
       "    <tr>\n",
       "      <td>Long haul_last_3rd_wk</td>\n",
       "      <td>2018-05-03</td>\n",
       "      <td>2020-05-10</td>\n",
       "      <td>504.0</td>\n",
       "      <td>671.2108</td>\n",
       "    </tr>\n",
       "    <tr>\n",
       "      <td>Short haul_last_3rd_wk</td>\n",
       "      <td>2018-05-03</td>\n",
       "      <td>2020-05-10</td>\n",
       "      <td>716.0</td>\n",
       "      <td>1000.9814</td>\n",
       "    </tr>\n",
       "    <tr>\n",
       "      <td>Overall_3rd_wk</td>\n",
       "      <td>NaT</td>\n",
       "      <td>NaT</td>\n",
       "      <td>1220.0</td>\n",
       "      <td>1672.1922</td>\n",
       "    </tr>\n",
       "  </tbody>\n",
       "</table>\n",
       "</div>"
      ],
      "text/plain": [
       "                       Start_date   End_date  Pricecalls  premium58%\n",
       "World_Europe                                                        \n",
       "Long haul_last_3rd_wk  2018-05-03 2020-05-10       504.0    671.2108\n",
       "Short haul_last_3rd_wk 2018-05-03 2020-05-10       716.0   1000.9814\n",
       "Overall_3rd_wk                NaT        NaT      1220.0   1672.1922"
      ]
     },
     "execution_count": 105,
     "metadata": {},
     "output_type": "execute_result"
    }
   ],
   "source": [
    "KPI_perf_lst_3wks_pivot_df"
   ]
  },
  {
   "cell_type": "code",
   "execution_count": 106,
   "metadata": {},
   "outputs": [],
   "source": [
    "#Create a column that indicates RPB per region\n",
    "KPI_perf_lst_3wks_pivot_df['RPA']=KPI_perf_lst_3wks_pivot_df['premium58%']/KPI_perf_lst_3wks_pivot_df['Pricecalls']"
   ]
  },
  {
   "cell_type": "code",
   "execution_count": 107,
   "metadata": {},
   "outputs": [],
   "source": [
    "KPI_perf_lst_3wks_pivot_df.to_csv(export_NL_BI_drive+'TravixNL_board_KPI_inception and last 3rd weeks.csv',index=True)"
   ]
  },
  {
   "cell_type": "code",
   "execution_count": 108,
   "metadata": {},
   "outputs": [
    {
     "data": {
      "text/html": [
       "<div>\n",
       "<style scoped>\n",
       "    .dataframe tbody tr th:only-of-type {\n",
       "        vertical-align: middle;\n",
       "    }\n",
       "\n",
       "    .dataframe tbody tr th {\n",
       "        vertical-align: top;\n",
       "    }\n",
       "\n",
       "    .dataframe thead th {\n",
       "        text-align: right;\n",
       "    }\n",
       "</style>\n",
       "<table border=\"1\" class=\"dataframe\">\n",
       "  <thead>\n",
       "    <tr style=\"text-align: right;\">\n",
       "      <th></th>\n",
       "      <th>Start_date</th>\n",
       "      <th>End_date</th>\n",
       "      <th>Pricecalls</th>\n",
       "      <th>premium58%</th>\n",
       "      <th>RPA</th>\n",
       "    </tr>\n",
       "    <tr>\n",
       "      <th>World_Europe</th>\n",
       "      <th></th>\n",
       "      <th></th>\n",
       "      <th></th>\n",
       "      <th></th>\n",
       "      <th></th>\n",
       "    </tr>\n",
       "  </thead>\n",
       "  <tbody>\n",
       "    <tr>\n",
       "      <td>Long haul_last_3rd_wk</td>\n",
       "      <td>2018-05-03</td>\n",
       "      <td>2020-05-10</td>\n",
       "      <td>504.0</td>\n",
       "      <td>671.2108</td>\n",
       "      <td>1.331767</td>\n",
       "    </tr>\n",
       "    <tr>\n",
       "      <td>Short haul_last_3rd_wk</td>\n",
       "      <td>2018-05-03</td>\n",
       "      <td>2020-05-10</td>\n",
       "      <td>716.0</td>\n",
       "      <td>1000.9814</td>\n",
       "      <td>1.398019</td>\n",
       "    </tr>\n",
       "    <tr>\n",
       "      <td>Overall_3rd_wk</td>\n",
       "      <td>NaT</td>\n",
       "      <td>NaT</td>\n",
       "      <td>1220.0</td>\n",
       "      <td>1672.1922</td>\n",
       "      <td>1.370649</td>\n",
       "    </tr>\n",
       "  </tbody>\n",
       "</table>\n",
       "</div>"
      ],
      "text/plain": [
       "                       Start_date   End_date  Pricecalls  premium58%       RPA\n",
       "World_Europe                                                                  \n",
       "Long haul_last_3rd_wk  2018-05-03 2020-05-10       504.0    671.2108  1.331767\n",
       "Short haul_last_3rd_wk 2018-05-03 2020-05-10       716.0   1000.9814  1.398019\n",
       "Overall_3rd_wk                NaT        NaT      1220.0   1672.1922  1.370649"
      ]
     },
     "execution_count": 108,
     "metadata": {},
     "output_type": "execute_result"
    }
   ],
   "source": [
    "KPI_perf_lst_3wks_pivot_df"
   ]
  },
  {
   "cell_type": "code",
   "execution_count": 109,
   "metadata": {},
   "outputs": [],
   "source": [
    "#Combine overall and last 3 rd week data  to one dataframe\n",
    "KPI_perf_all_rows_3rd_wk_df = pd.concat([KPI_perf_all_rows_df, KPI_perf_lst_3wks_pivot_df],sort=False)"
   ]
  },
  {
   "cell_type": "code",
   "execution_count": 110,
   "metadata": {},
   "outputs": [],
   "source": [
    "# Export data\n",
    "KPI_perf_all_rows_3rd_wk_df.to_csv(export_NL_BI_drive+'TravixNL_board_KPI_inception and last 2 weeks.csv',index=True)\n",
    "#KPI_perf_all_rows_3rd_wk_df.to_csv(export_local+'TravixNL_board_KPI_inception and last 2 weeks.csv',index=True)"
   ]
  }
 ],
 "metadata": {
  "kernelspec": {
   "display_name": "Python 3",
   "language": "python",
   "name": "python3"
  },
  "language_info": {
   "codemirror_mode": {
    "name": "ipython",
    "version": 3
   },
   "file_extension": ".py",
   "mimetype": "text/x-python",
   "name": "python",
   "nbconvert_exporter": "python",
   "pygments_lexer": "ipython3",
   "version": "3.7.4"
  },
  "toc": {
   "base_numbering": 1,
   "nav_menu": {},
   "number_sections": true,
   "sideBar": true,
   "skip_h1_title": false,
   "title_cell": "Table of Contents",
   "title_sidebar": "Contents",
   "toc_cell": false,
   "toc_position": {},
   "toc_section_display": true,
   "toc_window_display": true
  }
 },
 "nbformat": 4,
 "nbformat_minor": 2
}
