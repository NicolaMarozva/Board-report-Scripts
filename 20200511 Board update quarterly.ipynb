{
 "cells": [
  {
   "cell_type": "markdown",
   "metadata": {},
   "source": [
    "# Preparation"
   ]
  },
  {
   "cell_type": "markdown",
   "metadata": {},
   "source": [
    "## Import required Pythmon packages"
   ]
  },
  {
   "cell_type": "code",
   "execution_count": 1,
   "metadata": {},
   "outputs": [],
   "source": [
    "import numpy as np\n",
    "import pandas as pd"
   ]
  },
  {
   "cell_type": "code",
   "execution_count": 2,
   "metadata": {},
   "outputs": [],
   "source": [
    "from datetime import date\n",
    "from datetime import datetime, timedelta\n",
    "import time\n",
    "import pytz\n",
    "import glob"
   ]
  },
  {
   "cell_type": "code",
   "execution_count": 3,
   "metadata": {},
   "outputs": [],
   "source": [
    "#%load_ext autotime\n",
    "#%load_ext pycodestyle_magic\n",
    "#%flake8_on"
   ]
  },
  {
   "cell_type": "markdown",
   "metadata": {},
   "source": [
    "## Import data"
   ]
  },
  {
   "cell_type": "code",
   "execution_count": 4,
   "metadata": {},
   "outputs": [],
   "source": [
    "# Network locations for data import & export\n",
    "input_TravixDatadump_BI = r'\\\\192.168.140.37\\\\Business-Share\\\\bi-report\\\\Data analysis resources\\\\Travix\\\\DatadumpTravix\\\\'\n",
    "Hepstar_path =r'\\\\192.168.140.37\\\\Business-Share\\\\bi-report\\\\'\n",
    "input_BI_drive = r'\\\\192.168.140.37\\Business-Share\\BI resources\\Dashboards\\Travix\\# Data\\\\'\n",
    "export_BI_drive = r'\\\\192.168.140.37\\Business-Share\\BI resources\\Dashboards\\Travix\\# Data\\\\'"
   ]
  },
  {
   "cell_type": "code",
   "execution_count": 5,
   "metadata": {},
   "outputs": [],
   "source": [
    " # import HS clean data\n",
    "HS_df1 = pd.read_csv(input_BI_drive+'20190701-present HS_clean_df.csv', error_bad_lines=False,low_memory=False)\n",
    "HS_df2 = pd.read_csv(input_BI_drive+'20180501-20190630 HS_clean_df.csv', error_bad_lines=False,low_memory=False)"
   ]
  },
  {
   "cell_type": "code",
   "execution_count": 6,
   "metadata": {},
   "outputs": [],
   "source": [
    "# Merge Travix csv files in folders with other csv files not in folders\n",
    "HS_df = pd.concat([HS_df1, HS_df2], sort = False)"
   ]
  },
  {
   "cell_type": "code",
   "execution_count": 52,
   "metadata": {},
   "outputs": [],
   "source": [
    "# make a copy of the dataset\n",
    "HS_base_df = HS_df.copy()\n",
    "HS_base_df = HS_base_df.copy()"
   ]
  },
  {
   "cell_type": "markdown",
   "metadata": {},
   "source": [
    "# Data cleaning"
   ]
  },
  {
   "cell_type": "code",
   "execution_count": 85,
   "metadata": {},
   "outputs": [],
   "source": [
    "#Select relevant data\n",
    "HS_T_df=HS_base_df.loc[HS_base_df['channel'].isin(['CheapticketsNL','BudgetAir','Vliegwinkel'])]\n",
    "#make a copy of the data set\n",
    "HS_T_df= HS_T_df.copy()"
   ]
  },
  {
   "cell_type": "code",
   "execution_count": 54,
   "metadata": {},
   "outputs": [],
   "source": [
    "# Change date variable\n",
    "HS_T_df['date'] = pd.to_datetime(HS_T_df['date'])"
   ]
  },
  {
   "cell_type": "code",
   "execution_count": 55,
   "metadata": {},
   "outputs": [],
   "source": [
    "#Select relevant data\n",
    "HS_T_df = HS_T_df[(HS_T_df['date']>='2019-01-01')& (HS_T_df['date']<='2019-12-31')]"
   ]
  },
  {
   "cell_type": "code",
   "execution_count": 58,
   "metadata": {},
   "outputs": [],
   "source": [
    "#Calculate 50% premium_distributor revenue \n",
    "def premium_distributor (HS_T_df):\n",
    "    if (HS_T_df['supplier'] == 'Unigarant'):\n",
    "        return  HS_T_df['premium_sum'] * 0.58\n",
    "    if (HS_T_df['supplier'] == 'Refund Protect'):\n",
    "        return  HS_T_df['premium_sum'] * 0.50\n",
    "# customers who were not offered any products\n",
    "    if (HS_T_df['supplier'] == ''):\n",
    "        return  0\n",
    "    else:\n",
    "        return 0\n",
    "HS_T_df['premium_distr_revenue'] = HS_T_df.apply (lambda row: premium_distributor (row), axis=1)"
   ]
  },
  {
   "cell_type": "code",
   "execution_count": 60,
   "metadata": {},
   "outputs": [],
   "source": [
    "HS_T_df['premium_distr_revenue'] = HS_T_df['premium_distr_revenue'].astype(int)"
   ]
  },
  {
   "cell_type": "code",
   "execution_count": 61,
   "metadata": {},
   "outputs": [],
   "source": [
    "#Add a column that indicates the quater of the year in which the order_date is in\n",
    "HS_T_df['quarter'] = pd.PeriodIndex(HS_T_df['date'],freq='Q')"
   ]
  },
  {
   "cell_type": "code",
   "execution_count": 62,
   "metadata": {},
   "outputs": [],
   "source": [
    "# Calculate the number of days to departure\n",
    "HS_T_df['startdate'] = pd.to_datetime(HS_T_df['startdate'])\n",
    "HS_T_df['enddate'] = pd.to_datetime(HS_T_df['enddate'])\n",
    "HS_T_df['daystodep']=HS_T_df['startdate']-HS_T_df['date']"
   ]
  },
  {
   "cell_type": "code",
   "execution_count": 63,
   "metadata": {},
   "outputs": [],
   "source": [
    "#converting number of days to integer type\n",
    "HS_T_df['daystodep']=HS_T_df['daystodep'].dt.days"
   ]
  },
  {
   "cell_type": "code",
   "execution_count": 64,
   "metadata": {},
   "outputs": [],
   "source": [
    "# Drop if startdate is before booking date\n",
    "HS_T_df.drop(HS_T_df[HS_T_df['date']>HS_T_df['startdate']].index, inplace=True)"
   ]
  },
  {
   "cell_type": "code",
   "execution_count": 65,
   "metadata": {},
   "outputs": [
    {
     "data": {
      "text/plain": [
       "array(['d_2~10', 'c_1~1', 'j_71~80', 'g_41~50', 'f_31~40', 'h_51~60',\n",
       "       'a_11~20', 'b_0~0', 'm_101~140', 'e_21~30', 'k_81~90', 'i_61~70',\n",
       "       'n_>140', 'l_91~100'], dtype=object)"
      ]
     },
     "execution_count": 65,
     "metadata": {},
     "output_type": "execute_result"
    }
   ],
   "source": [
    "#calculate  to departure bracket\n",
    "def Travix_depature (HS_T_df):\n",
    "    if (HS_T_df['daystodep'] == 0):\n",
    "        return 'b_0~0'\n",
    "    if (HS_T_df['daystodep'] == 1):\n",
    "        return 'c_1~1'\n",
    "    if (HS_T_df['daystodep'] > 1 ) and (HS_T_df['daystodep'] <=10):\n",
    "        return 'd_2~10'\n",
    "    if (HS_T_df['daystodep'] > 10 ) and (HS_T_df['daystodep'] <=20):\n",
    "        return 'a_11~20'\n",
    "    if (HS_T_df['daystodep'] > 20 ) and (HS_T_df['daystodep'] <=30):\n",
    "        return 'e_21~30'\n",
    "    if (HS_T_df['daystodep'] > 30 ) and (HS_T_df['daystodep'] <=40):\n",
    "        return 'f_31~40'\n",
    "    if (HS_T_df['daystodep'] > 40 ) and (HS_T_df['daystodep'] <=50):\n",
    "        return 'g_41~50'\n",
    "    if (HS_T_df['daystodep'] > 50 ) and (HS_T_df['daystodep'] <=60):\n",
    "        return 'h_51~60'\n",
    "    if (HS_T_df['daystodep'] > 60 ) and (HS_T_df['daystodep'] <=70):\n",
    "        return 'i_61~70'\n",
    "    if (HS_T_df['daystodep'] > 70 ) and (HS_T_df['daystodep'] <=80):\n",
    "        return 'j_71~80'\n",
    "    if (HS_T_df['daystodep'] > 80 ) and (HS_T_df['daystodep'] <=90):\n",
    "        return 'k_81~90'\n",
    "    if (HS_T_df['daystodep'] > 90 ) and (HS_T_df['daystodep'] <=100):\n",
    "        return 'l_91~100'\n",
    "    if (HS_T_df['daystodep'] > 100 ) and (HS_T_df['daystodep'] <=140):\n",
    "        return 'm_101~140'\n",
    "    if (HS_T_df['daystodep'] > 140 ):\n",
    "        return 'n_>140'\n",
    "    else:\n",
    "        return 'o_missing'\n",
    "HS_T_df['Daystodep_brac'] = HS_T_df.apply (lambda row: Travix_depature (row), axis=1)\n",
    "HS_T_df['Daystodep_brac'].unique()"
   ]
  },
  {
   "cell_type": "code",
   "execution_count": 78,
   "metadata": {},
   "outputs": [],
   "source": [
    "# select relevant data\n",
    "HS_T_df = HS_T_df[['Order_month','quarter','Order_year','channel','triptype','taglocale','tagcabinclass','tagticketservice',\n",
    "  'tagfrequentflyer','tagtype','tagscope','HS_cancelled','destination_region','Destination subregion','Origin region',\n",
    "'Origin subregion','World_Europe','Dist_vs_Hepstar','supplier','Phase_widget_segment','splitcode','tagresidency',\n",
    "  'product','Daystodep_brac','AirhelpPlusMargin','HS_purchase','HS_purchased_dist_revenue','Insured_passengers','Insurer_child_count',\n",
    "  'Main_products_count','NumberOfChildren','Offered_HS_product','Pricecalls','ServicePackageMargin',\n",
    "  'TicketGuaranteeMargin','Widget_product_segment','bookingvalue','claims provision','daystodep','distributor claim provision revenue',\n",
    "  'distributor_purchase','masterpolicyfee_ex_tax&HS','masterpolicyfeetotal','masterpolicyfeenet','masterpolicyfeetax',\n",
    "'numberoflinkedproducts','numberofpassengers','numberofpolicyissuecalls','numberofpricedcalls','numberofsegments',\n",
    "'premium_sum','product_type_No insurance','tagbookingmonth','tagtravelmonth',\n",
    "  'tax_sum','totalcost_sum','travelitemvalue','premium_distr_revenue']]"
   ]
  },
  {
   "cell_type": "code",
   "execution_count": 80,
   "metadata": {},
   "outputs": [
    {
     "data": {
      "text/plain": [
       "Order_month                            0\n",
       "quarter                                0\n",
       "Order_year                             0\n",
       "channel                                0\n",
       "triptype                               0\n",
       "taglocale                              0\n",
       "tagcabinclass                          0\n",
       "tagticketservice                       0\n",
       "tagfrequentflyer                       0\n",
       "tagtype                                0\n",
       "tagscope                               0\n",
       "HS_cancelled                           0\n",
       "destination_region                     0\n",
       "Destination subregion                  0\n",
       "Origin region                          0\n",
       "Origin subregion                       0\n",
       "World_Europe                           0\n",
       "Dist_vs_Hepstar                        0\n",
       "supplier                               0\n",
       "Phase_widget_segment                   0\n",
       "splitcode                              0\n",
       "tagresidency                           0\n",
       "product                                0\n",
       "Daystodep_brac                         0\n",
       "AirhelpPlusMargin                      0\n",
       "HS_purchase                            0\n",
       "HS_purchased_dist_revenue              0\n",
       "Insured_passengers                     0\n",
       "Insurer_child_count                    0\n",
       "Main_products_count                    0\n",
       "NumberOfChildren                       0\n",
       "Offered_HS_product                     0\n",
       "Pricecalls                             0\n",
       "ServicePackageMargin                   0\n",
       "TicketGuaranteeMargin                  0\n",
       "Widget_product_segment                 0\n",
       "bookingvalue                           0\n",
       "claims provision                       0\n",
       "daystodep                              0\n",
       "distributor claim provision revenue    0\n",
       "distributor_purchase                   0\n",
       "masterpolicyfee_ex_tax&HS              0\n",
       "masterpolicyfeetotal                   0\n",
       "masterpolicyfeenet                     0\n",
       "masterpolicyfeetax                     0\n",
       "numberoflinkedproducts                 0\n",
       "numberofpassengers                     0\n",
       "numberofpolicyissuecalls               0\n",
       "numberofpricedcalls                    0\n",
       "numberofsegments                       0\n",
       "premium_sum                            0\n",
       "product_type_No insurance              0\n",
       "tagbookingmonth                        0\n",
       "tagtravelmonth                         0\n",
       "tax_sum                                0\n",
       "totalcost_sum                          0\n",
       "travelitemvalue                        0\n",
       "premium_distr_revenue                  0\n",
       "dtype: int64"
      ]
     },
     "execution_count": 80,
     "metadata": {},
     "output_type": "execute_result"
    }
   ],
   "source": [
    "#Check if there is any  missing data\n",
    "HS_T_df.isnull().sum()"
   ]
  },
  {
   "cell_type": "code",
   "execution_count": 86,
   "metadata": {},
   "outputs": [],
   "source": [
    "#Fill missing values with n/a\n",
    "HS_T_df.fillna(0, inplace=True)"
   ]
  },
  {
   "cell_type": "code",
   "execution_count": 87,
   "metadata": {},
   "outputs": [
    {
     "data": {
      "text/plain": [
       "Order_month                            0\n",
       "quarter                                0\n",
       "Order_year                             0\n",
       "channel                                0\n",
       "triptype                               0\n",
       "taglocale                              0\n",
       "tagcabinclass                          0\n",
       "tagticketservice                       0\n",
       "tagfrequentflyer                       0\n",
       "tagtype                                0\n",
       "tagscope                               0\n",
       "HS_cancelled                           0\n",
       "destination_region                     0\n",
       "Destination subregion                  0\n",
       "Origin region                          0\n",
       "Origin subregion                       0\n",
       "World_Europe                           0\n",
       "Dist_vs_Hepstar                        0\n",
       "supplier                               0\n",
       "Phase_widget_segment                   0\n",
       "splitcode                              0\n",
       "tagresidency                           0\n",
       "product                                0\n",
       "Daystodep_brac                         0\n",
       "AirhelpPlusMargin                      0\n",
       "HS_purchase                            0\n",
       "HS_purchased_dist_revenue              0\n",
       "Insured_passengers                     0\n",
       "Insurer_child_count                    0\n",
       "Main_products_count                    0\n",
       "NumberOfChildren                       0\n",
       "Offered_HS_product                     0\n",
       "Pricecalls                             0\n",
       "ServicePackageMargin                   0\n",
       "TicketGuaranteeMargin                  0\n",
       "Widget_product_segment                 0\n",
       "bookingvalue                           0\n",
       "claims provision                       0\n",
       "daystodep                              0\n",
       "distributor claim provision revenue    0\n",
       "distributor_purchase                   0\n",
       "masterpolicyfee_ex_tax&HS              0\n",
       "masterpolicyfeetotal                   0\n",
       "masterpolicyfeenet                     0\n",
       "masterpolicyfeetax                     0\n",
       "numberoflinkedproducts                 0\n",
       "numberofpassengers                     0\n",
       "numberofpolicyissuecalls               0\n",
       "numberofpricedcalls                    0\n",
       "numberofsegments                       0\n",
       "premium_sum                            0\n",
       "product_type_No insurance              0\n",
       "tagbookingmonth                        0\n",
       "tagtravelmonth                         0\n",
       "tax_sum                                0\n",
       "totalcost_sum                          0\n",
       "travelitemvalue                        0\n",
       "premium_distr_revenue                  0\n",
       "dtype: int64"
      ]
     },
     "execution_count": 87,
     "metadata": {},
     "output_type": "execute_result"
    }
   ],
   "source": [
    "#Check if there are still any missing values\n",
    "HS_T_df.isnull().sum()"
   ]
  },
  {
   "cell_type": "code",
   "execution_count": 88,
   "metadata": {},
   "outputs": [],
   "source": [
    "#rename distributor to control\n",
    "HS_T_df['Dist_vs_Hepstar'].replace('Distributor', 'Control',inplace=True)"
   ]
  },
  {
   "cell_type": "code",
   "execution_count": 89,
   "metadata": {},
   "outputs": [],
   "source": [
    "#Create a pivot table that groups data per year, week, haul and policy type\n",
    "HS_T_pv_df=HS_T_df.pivot_table(index=['Order_month','quarter','Order_year','channel','triptype','taglocale','tagcabinclass','tagticketservice',\n",
    "  'tagfrequentflyer','tagtype','tagscope','HS_cancelled','destination_region','Destination subregion','Origin region',\n",
    "'Origin subregion','World_Europe','Dist_vs_Hepstar','supplier','Phase_widget_segment','splitcode','tagresidency',\n",
    "  'product','Daystodep_brac'], aggfunc='sum')"
   ]
  },
  {
   "cell_type": "code",
   "execution_count": 90,
   "metadata": {},
   "outputs": [],
   "source": [
    "HS_T_pv_df.reset_index(inplace=True)"
   ]
  },
  {
   "cell_type": "markdown",
   "metadata": {},
   "source": [
    "# Export data"
   ]
  },
  {
   "cell_type": "code",
   "execution_count": 91,
   "metadata": {},
   "outputs": [],
   "source": [
    "HS_T_pv_df.to_csv(export_BI_drive+'Quartely Board report data.csv')"
   ]
  }
 ],
 "metadata": {
  "kernelspec": {
   "display_name": "Python 3",
   "language": "python",
   "name": "python3"
  },
  "language_info": {
   "codemirror_mode": {
    "name": "ipython",
    "version": 3
   },
   "file_extension": ".py",
   "mimetype": "text/x-python",
   "name": "python",
   "nbconvert_exporter": "python",
   "pygments_lexer": "ipython3",
   "version": "3.7.4"
  },
  "toc": {
   "base_numbering": 1,
   "nav_menu": {},
   "number_sections": true,
   "sideBar": true,
   "skip_h1_title": false,
   "title_cell": "Table of Contents",
   "title_sidebar": "Contents",
   "toc_cell": false,
   "toc_position": {
    "height": "calc(100% - 180px)",
    "left": "10px",
    "top": "150px",
    "width": "256.08px"
   },
   "toc_section_display": true,
   "toc_window_display": true
  }
 },
 "nbformat": 4,
 "nbformat_minor": 4
}
